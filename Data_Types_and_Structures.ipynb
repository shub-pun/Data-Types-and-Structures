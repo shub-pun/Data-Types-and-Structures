{
  "nbformat": 4,
  "nbformat_minor": 0,
  "metadata": {
    "colab": {
      "provenance": []
    },
    "kernelspec": {
      "name": "python3",
      "display_name": "Python 3"
    },
    "language_info": {
      "name": "python"
    }
  },
  "cells": [
    {
      "cell_type": "markdown",
      "source": [
        "# Data Types and Structures Questions"
      ],
      "metadata": {
        "id": "uz7Vua2lVeEc"
      }
    },
    {
      "cell_type": "markdown",
      "source": [
        "1.What are data structures, and why are they important ?\n",
        "- Data structures are ways of organizing and storing data in a computer so that we can access and modify it efficiently.\n",
        "- They're important because they help write faster and more efficient programs, especially when handling large amounts of data.\n"
      ],
      "metadata": {
        "id": "IgfcCHJUVeCf"
      }
    },
    {
      "cell_type": "markdown",
      "source": [
        "2. Explain the difference between mutable and immutable data types with examples.\n",
        "- Mutable data types can be changed after they are created. You can add, remove, or modify their content. Lists and dictionaries are good examples of this.\n",
        "- Immutable data types cannot be changed once created. If you want to change them, you must create a new one. Strings and tuples fall into this category."
      ],
      "metadata": {
        "id": "X7FB7oI8Vd_U"
      }
    },
    {
      "cell_type": "markdown",
      "source": [
        "3. What are the main differences between lists and tuples in Python?\n",
        "- Lists are changeable (mutable), meaning you can add or remove items.\n",
        "\n",
        "- Tuples are unchangeable (immutable), so once you create them, they stay the same.\n",
        "\n",
        "- Lists use square brackets, while tuples use parentheses.\n",
        "\n",
        "- Tuples are often used when the data should not change, while lists are used when the data will be modified."
      ],
      "metadata": {
        "id": "WB6gzfV8Vd8q"
      }
    },
    {
      "cell_type": "markdown",
      "source": [
        "4. Describe how dictionaries store data\n",
        "- Dictionaries store data using key-value pairs. The key is like a label, and the value is the data linked to that label.For example, in a student record, the key could be \"name\", and the value could be \"shub\"."
      ],
      "metadata": {
        "id": "ugbMQSOAWTAQ"
      }
    },
    {
      "cell_type": "markdown",
      "source": [
        "5. Why might you use a set instead of a list in Python?\n",
        "\n",
        "Ans: Sets are useful when:\n",
        "\n",
        "You want to remove duplicates automatically.\n",
        "\n",
        "You need to check if an item exists very quickly.\n",
        "\n",
        "You don’t care about the order of items.\n",
        "\n",
        "Unlike lists, sets do not keep items in any specific order and cannot contain duplicates, making them ideal for tasks like checking unique entries or membership."
      ],
      "metadata": {
        "id": "D_AxjRnHWS-L"
      }
    },
    {
      "cell_type": "markdown",
      "source": [
        "6. What is a string in Python, and how is it different from a list?\n",
        "\n",
        "Ans: A string is a sequence of characters, like words or sentences. A list is a collection of any kind of items. The main differences are:\n",
        "\n",
        "- Strings are immutable; once you create them, you can't change them.\n",
        "\n",
        "- Lists are mutable and can contain many types of data."
      ],
      "metadata": {
        "id": "E5VPnCmTWS7S"
      }
    },
    {
      "cell_type": "markdown",
      "source": [
        "7. How do tuples ensure data integrity in Python?\n",
        "\n",
        "- Tuples are immutable, which means that once you create them, their contents can't be changed. This protects the data from being accidentally modified, making them a good choice when you want to store data that should remain constant. This helps in data integrity ensuring the data stays accurate."
      ],
      "metadata": {
        "id": "x1BeZUlvWS5W"
      }
    },
    {
      "cell_type": "markdown",
      "source": [
        "8. What is a hash table, and how does it relate to dictionaries in Python?\n",
        "- A hash table is a data structure that maps keys to values using a mathematical function called a hash function. This allows very fast access to data. Python’s dictionaries are built on hash tables, which is why looking up a value using a key is usually very fast, no matter how big the dictionary is."
      ],
      "metadata": {
        "id": "IamIurcMWS2U"
      }
    },
    {
      "cell_type": "markdown",
      "source": [
        "9. Can lists contain different data types in Python?\n",
        "- Yes, Python lists are very flexible. They can store any mix of data types — numbers, strings, booleans, even other lists or objects. This makes them powerful and convenient, especially in dynamic programming tasks."
      ],
      "metadata": {
        "id": "MZUmNDR9WS0Y"
      }
    },
    {
      "cell_type": "markdown",
      "source": [
        "10. Explain why strings are immutable in Python\n",
        "\n",
        "Ans: Strings are immutable for:\n",
        "\n",
        "- Security (e.g., as keys in dictionaries)\n",
        "\n",
        "- Efficiency (internally optimized)\n",
        "\n",
        "- Avoiding bugs from accidental changes"
      ],
      "metadata": {
        "id": "iEUbGsKxWSxE"
      }
    },
    {
      "cell_type": "markdown",
      "source": [
        "11. What advantages do dictionaries offer over lists for certain tasks?\n",
        "\n",
        "Ans: Dictionaries offer:\n",
        "\n",
        "- Fast lookup using keys (you don’t have to know the position of data).\n",
        "\n",
        "- Better organization through labeled data, making your code easier to understand.\n",
        "\n",
        "- Flexibility when dealing with complex or structured data.\n",
        "\n",
        "- Lists are better for sequences; dictionaries are better for labeled data."
      ],
      "metadata": {
        "id": "dI_Uu8apWSvA"
      }
    },
    {
      "cell_type": "markdown",
      "source": [
        "12. Describe a scenario where using a tuple would be preferable over a list.\n",
        "\n",
        "Ans: Use a tuple when the data should never be changed. For example:\n",
        "\n",
        "- Storing coordinates of a location (latitude, longitude)\n",
        "\n",
        "- Defining fixed settings or constants\n",
        "\n",
        "- As keys in a dictionary (because only immutable types can be keys)\n",
        "\n",
        "- Tuples also use less memory and perform faster for such cases."
      ],
      "metadata": {
        "id": "1cXrtg-jWSst"
      }
    },
    {
      "cell_type": "markdown",
      "source": [
        "13. How do sets handle duplicate values in Python?\n",
        "\n",
        "- Sets automatically remove duplicates. If you add the same item multiple times, it only keeps one copy. This is helpful when you want to make sure your data contains only unique values, like a list of unique visitors to a website."
      ],
      "metadata": {
        "id": "Wc8CYYEaWSp9"
      }
    },
    {
      "cell_type": "markdown",
      "source": [
        "14. How does the “in” keyword work differently for lists and dictionaries?\n",
        "\n",
        "- In a list, \"in\" checks if a value is present.\n",
        "\n",
        "- In a dictionary, \"in\" checks if a key is present — not the value."
      ],
      "metadata": {
        "id": "kkYc6ZB0WSmw"
      }
    },
    {
      "cell_type": "markdown",
      "source": [
        "15. Can you modify the elements of a tuple? Explain why or why not.\n",
        "\n",
        "- No, you cannot. Tuples are immutable, meaning once they are created, their contents cannot be changed. This is by design to prevent accidental changes and to improve performance in programs where data needs to stay constant."
      ],
      "metadata": {
        "id": "iA1R7uTIWSk3"
      }
    },
    {
      "cell_type": "markdown",
      "source": [
        "16. What is a nested dictionary, and give an example of its use case ?\n",
        "\n",
        "- A nested dictionary is a dictionary where each value is another dictionary. It’s used when you need to represent more complex or structured data — like storing details of multiple users.\n",
        "\n",
        "For example: storing student records where each student ID maps to their personal info like name and grade."
      ],
      "metadata": {
        "id": "O_BUFxG5WShk"
      }
    },
    {
      "cell_type": "markdown",
      "source": [
        "17. Describe the time complexity of accessing elements in a dictionary.\n",
        "\n",
        "- Accessing elements in a dictionary is typically O(1) — constant time. This means it takes the same amount of time to find a value, no matter how large the dictionary is. This is thanks to the underlying hash table that Python uses."
      ],
      "metadata": {
        "id": "dqP9YBlTWSfj"
      }
    },
    {
      "cell_type": "markdown",
      "source": [
        "18.In what situations are lists preferred over dictionaries?\n",
        "\n",
        "Ans: Use a list when:\n",
        "\n",
        "- You care about the order of items.\n",
        "\n",
        "- You need to loop over a sequence in order.\n",
        "\n",
        "- You don’t need labels for your data.\n",
        "\n",
        "You just have a simple collection of items like names, tasks, or numbers."
      ],
      "metadata": {
        "id": "iqWCz5ZtWSb7"
      }
    },
    {
      "cell_type": "markdown",
      "source": [
        "19. Why are dictionaries considered unordered, and how does that affect data retrieval?\n",
        "\n",
        "- In older versions of Python (<3.7), dicts were unordered.\n",
        "Now they preserve insertion order, but you still access values by key, not position.\n",
        "You can’t rely on index like you do in a list."
      ],
      "metadata": {
        "id": "8d8v-kneWSaA"
      }
    },
    {
      "cell_type": "markdown",
      "source": [
        "20. Explain the difference between a list and a dictionary in terms of data retrieval\n",
        "\n",
        "- List: You retrieve data by position (index), like \"give me item #2\".\n",
        "\n",
        "- Dictionary: You retrieve data by label (key), like \"give me the value associated with 'name'\".\n",
        "\n",
        "Dictionaries allow you to write more readable and meaningful code when dealing with labeled or structured data."
      ],
      "metadata": {
        "id": "X_DkU50hXR_w"
      }
    },
    {
      "cell_type": "markdown",
      "source": [
        "# Practical Questions"
      ],
      "metadata": {
        "id": "uv76EbmDWSWi"
      }
    },
    {
      "cell_type": "code",
      "source": [
        "#1.Write a code to create a string with your name and print it\n",
        "my_name = \"shubham\"\n",
        "print(my_name)"
      ],
      "metadata": {
        "colab": {
          "base_uri": "https://localhost:8080/"
        },
        "id": "TfkYffwxyqNB",
        "outputId": "f3beb749-d38d-4bde-d67d-97b154eb5956"
      },
      "execution_count": 8,
      "outputs": [
        {
          "output_type": "stream",
          "name": "stdout",
          "text": [
            "shubham\n"
          ]
        }
      ]
    },
    {
      "cell_type": "code",
      "source": [
        "#2.Write a code to find the length of the string \"Hello World\"\n",
        "text = \"Hello World\"\n",
        "length = len(text)\n",
        "print(\"Length of the string:\", length)"
      ],
      "metadata": {
        "id": "UzGviryoyqDc"
      },
      "execution_count": null,
      "outputs": []
    },
    {
      "cell_type": "code",
      "source": [
        "#3.Write a code to slice the first 3 characters from the string \"Python Programming\".\n",
        "text = \"Python Programming\"\n",
        "sliced = text[:3]  # From index 0 to 2\n",
        "print(\"First 3 characters:\", sliced)"
      ],
      "metadata": {
        "id": "PlIPZDPZxPhQ"
      },
      "execution_count": null,
      "outputs": []
    },
    {
      "cell_type": "code",
      "source": [
        "#4.Write a code to convert the string \"hello\" to uppercase.\n",
        "word = \"hello\"\n",
        "uppercase_word = word.upper()\n",
        "print(\"Uppercase:\", uppercase_word)"
      ],
      "metadata": {
        "id": "Wlc4v0jRxPT5"
      },
      "execution_count": null,
      "outputs": []
    },
    {
      "cell_type": "code",
      "source": [
        "#5.Write a code to replace the word \"apple\" with \"orange\" in the string \"I like apple\"\n",
        "sentence = \"I like apple\"\n",
        "new_sentence = sentence.replace(\"apple\", \"orange\")\n",
        "print(\"Updated sentence:\", new_sentence)"
      ],
      "metadata": {
        "id": "XAliAeZbxPJN"
      },
      "execution_count": null,
      "outputs": []
    },
    {
      "cell_type": "code",
      "source": [
        "#6.Write a code to create a list with numbers 1 to 5 and print it.\n",
        "numbers = [1, 2, 3, 4, 5]\n",
        "print(\"List:\", numbers)"
      ],
      "metadata": {
        "colab": {
          "base_uri": "https://localhost:8080/"
        },
        "id": "HQA9TtP4xO8t",
        "outputId": "32b75b96-a2ed-4ef2-89b1-5adfa7e5dfd1"
      },
      "execution_count": 7,
      "outputs": [
        {
          "output_type": "stream",
          "name": "stdout",
          "text": [
            "List: [1, 2, 3, 4, 5]\n"
          ]
        }
      ]
    },
    {
      "cell_type": "code",
      "source": [
        "#7.Write a code to append the number 10 to the list [1, 2, 3, 4]\n",
        "my_list = [1, 2, 3, 4]\n",
        "my_list.append(10)\n",
        "print(\"Updated list:\", my_list)"
      ],
      "metadata": {
        "id": "AvG7X-iSwAXs"
      },
      "execution_count": null,
      "outputs": []
    },
    {
      "cell_type": "code",
      "source": [
        "#8.Write a code to remove the number 3 from the list [1, 2, 3, 4, 5]\n",
        "numbers = [1, 2, 3, 4, 5]\n",
        "numbers.remove(3)\n",
        "print(\"List after removing 3:\", numbers)"
      ],
      "metadata": {
        "id": "dk7m2LYnwAVY"
      },
      "execution_count": null,
      "outputs": []
    },
    {
      "cell_type": "code",
      "source": [
        "#9.Write a code to access the second element in the list ['a', 'b', 'c', 'd']\n",
        "letters = ['a', 'b', 'c', 'd']\n",
        "print(\"Second element:\", letters[1])  # Indexing starts at 0"
      ],
      "metadata": {
        "id": "vQDu5JlEwASD"
      },
      "execution_count": null,
      "outputs": []
    },
    {
      "cell_type": "code",
      "source": [
        "#10.Write a code to reverse the list [10, 20, 30, 40, 50].\n",
        "numbers = [10, 20, 30, 40, 50]\n",
        "numbers.reverse()\n",
        "print(\"Reversed list:\", numbers)"
      ],
      "metadata": {
        "id": "-JKy25V4wAQE"
      },
      "execution_count": null,
      "outputs": []
    },
    {
      "cell_type": "code",
      "source": [
        "#11. Write a code to create a tuple with the elements 100, 200, 300 and print it.\n",
        "my_tuple = (100, 200, 300)\n",
        "print(\"Tuple:\", my_tuple)"
      ],
      "metadata": {
        "colab": {
          "base_uri": "https://localhost:8080/"
        },
        "id": "PsoXzRsswAF6",
        "outputId": "e3cbacc1-6818-4f3e-a953-8be06accbcc8"
      },
      "execution_count": 6,
      "outputs": [
        {
          "output_type": "stream",
          "name": "stdout",
          "text": [
            "Tuple: (100, 200, 300)\n"
          ]
        }
      ]
    },
    {
      "cell_type": "code",
      "source": [
        "#12. Write a code to access the second-to-last element of the tuple ('red', 'green', 'blue', 'yellow').\n",
        "colors = ('red', 'green', 'blue', 'yellow')\n",
        "print(\"Second-to-last element:\", colors[-2])"
      ],
      "metadata": {
        "id": "a7hRrv42tghP"
      },
      "execution_count": null,
      "outputs": []
    },
    {
      "cell_type": "code",
      "source": [
        "#13. Write a code to find the minimum number in the tuple (10, 20, 5, 15).\n",
        "numbers = (10, 20, 5, 15)\n",
        "min_value = min(numbers)\n",
        "print(\"Minimum number:\", min_value)"
      ],
      "metadata": {
        "id": "ch802-qwtgeA"
      },
      "execution_count": null,
      "outputs": []
    },
    {
      "cell_type": "code",
      "source": [
        "#14. Write a code to find the index of the element \"cat\" in the tuple ('dog', 'cat', 'rabbit').\n",
        "animals = ('dog', 'cat', 'rabbit')\n",
        "index = animals.index(\"cat\")\n",
        "print(\"Index of 'cat':\", index)"
      ],
      "metadata": {
        "id": "bgb8qQhhtgbd"
      },
      "execution_count": null,
      "outputs": []
    },
    {
      "cell_type": "code",
      "source": [
        "#15. Write a code to create a tuple containing three different fruits and check if \"kiwi\" is in it.\n",
        "fruits = (\"apple\", \"banana\", \"cherry\")\n",
        "if \"kiwi\" in fruits:\n",
        "    print(\"Kiwi is in the tuple.\")\n",
        "else:\n",
        "    print(\"Kiwi is not in the tuple.\")"
      ],
      "metadata": {
        "id": "6LYh4fsXtgXY"
      },
      "execution_count": null,
      "outputs": []
    },
    {
      "cell_type": "code",
      "source": [
        "#16. Write a code to create a set with the elements 'a', 'b', 'c' and print it.\n",
        "my_set = {'a', 'b', 'c'}\n",
        "print(\"Set:\", my_set)"
      ],
      "metadata": {
        "colab": {
          "base_uri": "https://localhost:8080/"
        },
        "id": "2WMFp328tgVH",
        "outputId": "5b3ed913-2990-4632-dbd2-261a78ca8b9f"
      },
      "execution_count": 5,
      "outputs": [
        {
          "output_type": "stream",
          "name": "stdout",
          "text": [
            "Set: {'c', 'a', 'b'}\n"
          ]
        }
      ]
    },
    {
      "cell_type": "code",
      "source": [
        "#17. Write a code to clear all elements from the set {1, 2, 3, 4, 5}.\n",
        "numbers = {1, 2, 3, 4, 5}\n",
        "numbers.clear()\n",
        "print(\"Cleared set:\", numbers)"
      ],
      "metadata": {
        "id": "bNN4Ox-YtgMz"
      },
      "execution_count": null,
      "outputs": []
    },
    {
      "cell_type": "code",
      "source": [
        "#18. Write a code to remove the element 4 from the set {1, 2, 3, 4}.\n",
        "my_set = {1, 2, 3, 4}\n",
        "my_set.remove(4)\n",
        "print(\"After removing 4:\", my_set)"
      ],
      "metadata": {
        "id": "fecYI7uYs3sL"
      },
      "execution_count": null,
      "outputs": []
    },
    {
      "cell_type": "code",
      "source": [
        "#19. Write a code to find the union of two sets {1, 2, 3} and {3, 4, 5}.\n",
        "set1 = {1, 2, 3}\n",
        "set2 = {3, 4, 5}\n",
        "union_set = set1.union(set2)\n",
        "print(\"Union:\", union_set)"
      ],
      "metadata": {
        "id": "eQ0mg3Bms3f8"
      },
      "execution_count": null,
      "outputs": []
    },
    {
      "cell_type": "code",
      "source": [
        "#20. Write a code to find the intersection of two sets {1, 2, 3} and {2, 3, 4}.\n",
        "set1 = {1, 2, 3}\n",
        "set2 = {2, 3, 4}\n",
        "intersection = set1.intersection(set2)\n",
        "print(\"Intersection:\", intersection)"
      ],
      "metadata": {
        "id": "iItUv3xcs3RO"
      },
      "execution_count": null,
      "outputs": []
    },
    {
      "cell_type": "code",
      "source": [
        "#21. Write a code to create a dictionary with the keys \"name\", \"age\", and \"city\", and print it.\n",
        "person = {\n",
        "    \"name\": \"John\",\n",
        "    \"age\": 25,\n",
        "    \"city\": \"New York\"\n",
        "}\n",
        "print(\"Dictionary:\", person)"
      ],
      "metadata": {
        "colab": {
          "base_uri": "https://localhost:8080/"
        },
        "id": "e3UE23BNsg8C",
        "outputId": "36f07da8-a844-4410-ad52-6a5da5b3c9f4"
      },
      "execution_count": 4,
      "outputs": [
        {
          "output_type": "stream",
          "name": "stdout",
          "text": [
            "Dictionary: {'name': 'John', 'age': 25, 'city': 'New York'}\n"
          ]
        }
      ]
    },
    {
      "cell_type": "code",
      "source": [
        "#22. Write a code to add a new key-value pair \"country\": \"USA\" to the dictionary {'name': 'John', 'age': 25}.\n",
        "person = {'name': 'John', 'age': 25}\n",
        "person['country'] = 'USA'\n",
        "print(\"Updated dictionary:\", person)"
      ],
      "metadata": {
        "id": "EgpXUocusgdV"
      },
      "execution_count": null,
      "outputs": []
    },
    {
      "cell_type": "code",
      "source": [
        "#23. Write a code to access the value associated with the key \"name\" in the dictionary {'name': 'Alice', 'age': 30}.\n",
        "person = {'name': 'Alice', 'age': 30}\n",
        "print(\"Name:\", person['name'])"
      ],
      "metadata": {
        "id": "lJRbxumvre0X"
      },
      "execution_count": null,
      "outputs": []
    },
    {
      "cell_type": "code",
      "source": [
        "#24. Write a code to remove the key \"age\" from the dictionary {'name': 'Bob', 'age': 22, 'city': 'New York'}\n",
        "person = {'name': 'Bob', 'age': 22, 'city': 'New York'}\n",
        "del person['age']\n",
        "print(\"Dictionary after removing 'age':\", person)"
      ],
      "metadata": {
        "id": "cAiyOMheree3"
      },
      "execution_count": null,
      "outputs": []
    },
    {
      "cell_type": "code",
      "source": [
        "#25. Write a code to check if the key \"city\" exists in the dictionary {'name': 'Alice', 'city': 'Paris'}.\n",
        "person = {'name': 'Alice', 'city': 'Paris'}\n",
        "if 'city' in person:\n",
        "    print(\"Key 'city' exists.\")\n",
        "else:\n",
        "    print(\"Key 'city' does not exist.\")"
      ],
      "metadata": {
        "id": "flW5i5cOoOxz"
      },
      "execution_count": null,
      "outputs": []
    },
    {
      "cell_type": "code",
      "source": [
        "#26. Write a code to create a list, a tuple, and a dictionary, and print them all.\n",
        "my_list = [1, 2, 3]\n",
        "my_tuple = (4, 5, 6)\n",
        "my_dict = {\"a\": 1, \"b\": 2}\n",
        "print(\"List:\", my_list)\n",
        "print(\"Tuple:\", my_tuple)\n",
        "print(\"Dictionary:\", my_dict)"
      ],
      "metadata": {
        "colab": {
          "base_uri": "https://localhost:8080/"
        },
        "id": "p270hFHMl2D8",
        "outputId": "96fd1b8f-c99b-41ef-d087-0f0237075dbd"
      },
      "execution_count": 3,
      "outputs": [
        {
          "output_type": "stream",
          "name": "stdout",
          "text": [
            "List: [1, 2, 3]\n",
            "Tuple: (4, 5, 6)\n",
            "Dictionary: {'a': 1, 'b': 2}\n"
          ]
        }
      ]
    },
    {
      "cell_type": "code",
      "source": [
        "#27. Write a code to create a list of 5 random numbers between 1 and 100, sort it in ascending order, and print the reult.(replaced)\n",
        "import random\n",
        "\n",
        "numbers = random.sample(range(1, 101), 5)\n",
        "numbers.sort()\n",
        "print(\"Sorted random numbers:\", numbers)"
      ],
      "metadata": {
        "colab": {
          "base_uri": "https://localhost:8080/"
        },
        "id": "65NA8crHl22N",
        "outputId": "791cdc32-8ff3-4456-a0eb-baeb40379029"
      },
      "execution_count": 2,
      "outputs": [
        {
          "output_type": "stream",
          "name": "stdout",
          "text": [
            "Sorted random numbers: [5, 10, 13, 47, 60]\n"
          ]
        }
      ]
    },
    {
      "cell_type": "code",
      "source": [
        "#28. Write a code to create a list with strings and print the element at the third index.\n",
        "words = [\"apple\", \"banana\", \"cherry\", \"date\", \"fig\"]\n",
        "print(\"Element at index 3:\", words[3])"
      ],
      "metadata": {
        "id": "LnKsxgGil1BO"
      },
      "execution_count": null,
      "outputs": []
    },
    {
      "cell_type": "code",
      "source": [
        "# 29. Write a code to combine two dictionaries into one and print the result\n",
        "dict1 = {'a': 1, 'b': 2}\n",
        "dict2 = {'c': 3, 'd': 4}\n",
        "combined = {**dict1, **dict2}\n",
        "print(\"Combined dictionary:\", combined)"
      ],
      "metadata": {
        "colab": {
          "base_uri": "https://localhost:8080/"
        },
        "id": "dUYE2FBMp7P_",
        "outputId": "f7a4b2fb-f2ef-4114-927f-0332b891c904"
      },
      "execution_count": 1,
      "outputs": [
        {
          "output_type": "stream",
          "name": "stdout",
          "text": [
            "Combined dictionary: {'a': 1, 'b': 2, 'c': 3, 'd': 4}\n"
          ]
        }
      ]
    },
    {
      "cell_type": "code",
      "source": [
        "# 30. Write a code to convert a list of strings into a set\n",
        "words_list = [\"apple\", \"banana\", \"cherry\", \"apple\"]\n",
        "words_set = set(words_list)\n",
        "print(\"Converted set:\", words_set)\n"
      ],
      "metadata": {
        "id": "-wM5xuq0lqJy"
      },
      "execution_count": null,
      "outputs": []
    }
  ]
}